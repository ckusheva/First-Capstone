{
 "cells": [
  {
   "cell_type": "markdown",
   "metadata": {},
   "source": [
    "# Problem"
   ]
  },
  {
   "cell_type": "markdown",
   "metadata": {},
   "source": [
    "'Crowdfunding is the practice of funding a project or venture by raising small amounts of money from a large number of people, typically via the Internet.'[1] I was interested in launching my own kickstarter project a couple of years ago but I managed to find another way of funding my idea. However, my interested in the crowdfunding practice remained and I wanted to see if my project would have been successful if I released in the first place. So, I was trying to find data based on different projects and their successsful rate and characteristics and I managed to find such data in the website called Kaggle. The data is collected in 2018 and catogorises the projects on the kickstarter platform into 15 different categories: 'Publishing', 'Film & Video','Music', 'Food', 'Design', 'Crafts', 'Games', 'Comics', 'Fashion', 'Theater', 'Art', 'Photography', 'Technology', 'Dance', 'Journalism'. One of the conclusions I came up with while doing my first capstone project[2] was that the projects with the most backers fall into the 'Games' category. However, the projects which had least backers pledging funds were in the 'Dance' category. However, is this a proof that if a project falls into a 'Dance' category, it has less chances to be successful due to people's less interest in this field? A true correlation can not be confirmed unless we compare the most funded category 'Games' to the 'Dance' category and see if their mean are significantly different.\n"
   ]
  },
  {
   "cell_type": "markdown",
   "metadata": {},
   "source": [
    "# Potential Solution\n"
   ]
  },
  {
   "cell_type": "markdown",
   "metadata": {},
   "source": [
    "To test the hypothesis that the number of backers or projects that falls under 'Dance' category is less than the number of backers in 'Games' category we formulate the following hypothesis:\n",
    "\n",
    "H0: The numbers of backers for projects whose main category is 'Dance' is the same with the number of backers whose main category is 'Games'. \n",
    "\n",
    "Ha: The numbers of backers for projects whose main category is 'Dance' is less than the number of backers whose main category is 'Games' "
   ]
  },
  {
   "cell_type": "markdown",
   "metadata": {},
   "source": [
    "# Methods"
   ]
  },
  {
   "cell_type": "markdown",
   "metadata": {},
   "source": [
    "I will use t-test which is used to test the hypothesis that the mean of two groups are the same. In our case, I will use it to compare the number of backers for projects with main category = 'Dance' VS 'Games'. The formula in Python is given below:\n",
    "\n",
    "stats.ttest_ind(df1[df1.main_category == 'Dance'].backers,\n",
    "                df1[df1.main_category == 'Games'].backers)\n",
    "\n",
    "where df1 is dataframe, \n",
    "      stats is the python module\n",
    "      ttest_ind is the formula for t-test\n",
    "                \n",
    "I choose level of significance = 0.05. The result of the t-statistic is -7.95 with a p-value of 0.0000. Since the p-value(0.0000) is less than level of significance(0.05) we reject H0 and accept Ha. We conclude that the numbers of backers for projects whose main category is 'Dance' is less than the number of backers whose main category is 'Games'. \n",
    "\n",
    "However, this doesn't completely prove that if if a projects falls into the 'dance' category, it is more prone to fail. A further experimentation needs to be done. \n",
    "\n",
    "One way to determine if the Games category brings more interest to people than the Dance category by doing A/B testing.\n",
    "\n",
    "In looking at the setup for the A/B test, I would select a sample group of 1000 backers from the list of all backers that invested in a kickstart project before. However, I would exclude the backers that invested in either projects falling into a 'Dance' or a 'Games' category so the test wouldn't be biased. I would then divide the sample group in half so that each half is similar to the other. \n",
    "\n",
    "After our sample is determined, we will send emails to both groups promoting 10 projects - 5 from the 'dance' category and 5 from the 'games' category. The email will contain a title showing the category of the project, the name of the project and a short summary alongside a link leading to the page of the projects on the kickstarted platform. Those two types of projects should have similar duration , similar target amount and should be released at approximately the same time. They will be carefully selected from all the projects so that they fit the criteria. Before sending the email, we will reach out to each of the projects' owners, asking for a permission to use their project in order to test our hypothesis.\n",
    "\n",
    "Two weeks after the emails are sent out, the data will be collected showing how many backers invested in each of the two types of projects. The link provided will help us track how many of the total backers that invested in each of the projects are informed about this project via the emails we sent. \n",
    "\n",
    "Assuming that all factors are equal between the two groups, I would hypothesize that the number of the backers invested in the projects falling to the 'Games' category will be more than the backers invested in the projects falling into the 'Dance' category. "
   ]
  },
  {
   "cell_type": "markdown",
   "metadata": {},
   "source": [
    "References:\n",
    "[1] https://en.wikipedia.org/wiki/Crowdfunding\n",
    "[2] https://github.com/ckusheva/First-Capstone"
   ]
  },
  {
   "cell_type": "code",
   "execution_count": null,
   "metadata": {},
   "outputs": [],
   "source": []
  }
 ],
 "metadata": {
  "kernelspec": {
   "display_name": "Python 3",
   "language": "python",
   "name": "python3"
  },
  "language_info": {
   "codemirror_mode": {
    "name": "ipython",
    "version": 3
   },
   "file_extension": ".py",
   "mimetype": "text/x-python",
   "name": "python",
   "nbconvert_exporter": "python",
   "pygments_lexer": "ipython3",
   "version": "3.7.2"
  }
 },
 "nbformat": 4,
 "nbformat_minor": 2
}
